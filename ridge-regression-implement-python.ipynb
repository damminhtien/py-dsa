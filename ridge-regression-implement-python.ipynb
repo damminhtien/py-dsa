{
 "cells": [
  {
   "cell_type": "code",
   "execution_count": 1,
   "metadata": {},
   "outputs": [],
   "source": [
    "import numpy as np"
   ]
  },
  {
   "cell_type": "code",
   "execution_count": 2,
   "metadata": {},
   "outputs": [],
   "source": [
    "class RidgeRegression(object):\n",
    "    def __init__(self, lmbda=0.1):\n",
    "        self.lmbda = lmbda\n",
    "    \n",
    "    # tính w dựa trên công thức \n",
    "    def fit(self, X, y):\n",
    "        X = np.insert(X, 0, 1, axis=1)\n",
    "        C = X.T.dot(X) + self.lmbda*np.eye(X.shape[1])\n",
    "        self.w = np.linalg.inv(C).dot(X.T.dot(y))\n",
    "\n",
    "    def predict(self, X):\n",
    "        X = np.insert(X, 0, 1, axis=1)\n",
    "        return X.dot(self.w)\n",
    "\n",
    "    def get_params(self, deep=True):\n",
    "        return {\"lmbda\": self.lmbda}\n",
    "\n",
    "    def set_params(self, lmbda=0.1):\n",
    "        self.lmbda = lmbda\n",
    "        return self\n",
    "    \n",
    "    def coef_(self):\n",
    "        return np.delete(self.w, 0, 0)\n",
    "    \n",
    "    def intercept_(self):\n",
    "        return self.w[0]\n",
    "    "
   ]
  },
  {
   "cell_type": "markdown",
   "metadata": {},
   "source": [
    "Công thức tính hệ số coeff:\n",
    "![alt text](https://cdn-images-1.medium.com/max/1600/0*bsJSJzTDyUHB0jtN.png)"
   ]
  },
  {
   "cell_type": "code",
   "execution_count": 3,
   "metadata": {},
   "outputs": [
    {
     "data": {
      "text/html": [
       "<div>\n",
       "<style scoped>\n",
       "    .dataframe tbody tr th:only-of-type {\n",
       "        vertical-align: middle;\n",
       "    }\n",
       "\n",
       "    .dataframe tbody tr th {\n",
       "        vertical-align: top;\n",
       "    }\n",
       "\n",
       "    .dataframe thead th {\n",
       "        text-align: right;\n",
       "    }\n",
       "</style>\n",
       "<table border=\"1\" class=\"dataframe\">\n",
       "  <thead>\n",
       "    <tr style=\"text-align: right;\">\n",
       "      <th></th>\n",
       "      <th>0</th>\n",
       "      <th>1</th>\n",
       "      <th>2</th>\n",
       "      <th>3</th>\n",
       "      <th>4</th>\n",
       "      <th>5</th>\n",
       "      <th>6</th>\n",
       "      <th>7</th>\n",
       "      <th>8</th>\n",
       "    </tr>\n",
       "  </thead>\n",
       "  <tbody>\n",
       "    <tr>\n",
       "      <th>0</th>\n",
       "      <td>1.665114</td>\n",
       "      <td>4.237778</td>\n",
       "      <td>64</td>\n",
       "      <td>2.073879</td>\n",
       "      <td>0</td>\n",
       "      <td>-1.387068</td>\n",
       "      <td>6</td>\n",
       "      <td>0</td>\n",
       "      <td>2.677591</td>\n",
       "    </tr>\n",
       "    <tr>\n",
       "      <th>1</th>\n",
       "      <td>0.269401</td>\n",
       "      <td>4.080930</td>\n",
       "      <td>65</td>\n",
       "      <td>1.960846</td>\n",
       "      <td>0</td>\n",
       "      <td>-0.792294</td>\n",
       "      <td>6</td>\n",
       "      <td>0</td>\n",
       "      <td>1.924249</td>\n",
       "    </tr>\n",
       "    <tr>\n",
       "      <th>2</th>\n",
       "      <td>3.825840</td>\n",
       "      <td>3.888853</td>\n",
       "      <td>44</td>\n",
       "      <td>-1.382499</td>\n",
       "      <td>1</td>\n",
       "      <td>2.183515</td>\n",
       "      <td>7</td>\n",
       "      <td>40</td>\n",
       "      <td>4.684443</td>\n",
       "    </tr>\n",
       "    <tr>\n",
       "      <th>3</th>\n",
       "      <td>-0.424693</td>\n",
       "      <td>3.513333</td>\n",
       "      <td>70</td>\n",
       "      <td>1.249222</td>\n",
       "      <td>0</td>\n",
       "      <td>-0.595768</td>\n",
       "      <td>7</td>\n",
       "      <td>30</td>\n",
       "      <td>1.470176</td>\n",
       "    </tr>\n",
       "    <tr>\n",
       "      <th>4</th>\n",
       "      <td>2.514151</td>\n",
       "      <td>3.467340</td>\n",
       "      <td>57</td>\n",
       "      <td>0.428525</td>\n",
       "      <td>0</td>\n",
       "      <td>2.318480</td>\n",
       "      <td>7</td>\n",
       "      <td>60</td>\n",
       "      <td>3.530763</td>\n",
       "    </tr>\n",
       "    <tr>\n",
       "      <th>5</th>\n",
       "      <td>0.288686</td>\n",
       "      <td>4.095910</td>\n",
       "      <td>65</td>\n",
       "      <td>1.960449</td>\n",
       "      <td>0</td>\n",
       "      <td>-0.806823</td>\n",
       "      <td>6</td>\n",
       "      <td>0</td>\n",
       "      <td>1.924249</td>\n",
       "    </tr>\n",
       "    <tr>\n",
       "      <th>6</th>\n",
       "      <td>-0.381821</td>\n",
       "      <td>3.504987</td>\n",
       "      <td>70</td>\n",
       "      <td>1.246730</td>\n",
       "      <td>0</td>\n",
       "      <td>-0.596905</td>\n",
       "      <td>7</td>\n",
       "      <td>30</td>\n",
       "      <td>1.470176</td>\n",
       "    </tr>\n",
       "    <tr>\n",
       "      <th>7</th>\n",
       "      <td>-1.046399</td>\n",
       "      <td>3.221741</td>\n",
       "      <td>50</td>\n",
       "      <td>-1.373105</td>\n",
       "      <td>0</td>\n",
       "      <td>-1.379131</td>\n",
       "      <td>6</td>\n",
       "      <td>0</td>\n",
       "      <td>0.765468</td>\n",
       "    </tr>\n",
       "    <tr>\n",
       "      <th>8</th>\n",
       "      <td>1.575711</td>\n",
       "      <td>3.739431</td>\n",
       "      <td>60</td>\n",
       "      <td>1.693815</td>\n",
       "      <td>0</td>\n",
       "      <td>0.824897</td>\n",
       "      <td>7</td>\n",
       "      <td>30</td>\n",
       "      <td>3.587677</td>\n",
       "    </tr>\n",
       "    <tr>\n",
       "      <th>9</th>\n",
       "      <td>1.664291</td>\n",
       "      <td>3.394136</td>\n",
       "      <td>61</td>\n",
       "      <td>0.622534</td>\n",
       "      <td>0</td>\n",
       "      <td>-1.376971</td>\n",
       "      <td>7</td>\n",
       "      <td>15</td>\n",
       "      <td>2.553344</td>\n",
       "    </tr>\n",
       "  </tbody>\n",
       "</table>\n",
       "</div>"
      ],
      "text/plain": [
       "          0         1   2         3  4         5  6   7         8\n",
       "0  1.665114  4.237778  64  2.073879  0 -1.387068  6   0  2.677591\n",
       "1  0.269401  4.080930  65  1.960846  0 -0.792294  6   0  1.924249\n",
       "2  3.825840  3.888853  44 -1.382499  1  2.183515  7  40  4.684443\n",
       "3 -0.424693  3.513333  70  1.249222  0 -0.595768  7  30  1.470176\n",
       "4  2.514151  3.467340  57  0.428525  0  2.318480  7  60  3.530763\n",
       "5  0.288686  4.095910  65  1.960449  0 -0.806823  6   0  1.924249\n",
       "6 -0.381821  3.504987  70  1.246730  0 -0.596905  7  30  1.470176\n",
       "7 -1.046399  3.221741  50 -1.373105  0 -1.379131  6   0  0.765468\n",
       "8  1.575711  3.739431  60  1.693815  0  0.824897  7  30  3.587677\n",
       "9  1.664291  3.394136  61  0.622534  0 -1.376971  7  15  2.553344"
      ]
     },
     "execution_count": 3,
     "metadata": {},
     "output_type": "execute_result"
    }
   ],
   "source": [
    "import pandas as pd\n",
    "train_data = pd.read_csv('./1-prostate-training.csv', header=None)\n",
    "train_data.head(10)"
   ]
  },
  {
   "cell_type": "code",
   "execution_count": 4,
   "metadata": {},
   "outputs": [
    {
     "data": {
      "text/html": [
       "<div>\n",
       "<style scoped>\n",
       "    .dataframe tbody tr th:only-of-type {\n",
       "        vertical-align: middle;\n",
       "    }\n",
       "\n",
       "    .dataframe tbody tr th {\n",
       "        vertical-align: top;\n",
       "    }\n",
       "\n",
       "    .dataframe thead th {\n",
       "        text-align: right;\n",
       "    }\n",
       "</style>\n",
       "<table border=\"1\" class=\"dataframe\">\n",
       "  <thead>\n",
       "    <tr style=\"text-align: right;\">\n",
       "      <th></th>\n",
       "      <th>0</th>\n",
       "      <th>1</th>\n",
       "      <th>2</th>\n",
       "      <th>3</th>\n",
       "      <th>4</th>\n",
       "      <th>5</th>\n",
       "      <th>6</th>\n",
       "      <th>7</th>\n",
       "      <th>8</th>\n",
       "    </tr>\n",
       "  </thead>\n",
       "  <tbody>\n",
       "    <tr>\n",
       "      <th>0</th>\n",
       "      <td>2.027535</td>\n",
       "      <td>3.928119</td>\n",
       "      <td>66</td>\n",
       "      <td>1.998482</td>\n",
       "      <td>1</td>\n",
       "      <td>2.126745</td>\n",
       "      <td>7</td>\n",
       "      <td>60</td>\n",
       "      <td>2.882004</td>\n",
       "    </tr>\n",
       "    <tr>\n",
       "      <th>1</th>\n",
       "      <td>1.453784</td>\n",
       "      <td>3.138977</td>\n",
       "      <td>68</td>\n",
       "      <td>0.300940</td>\n",
       "      <td>0</td>\n",
       "      <td>-1.372993</td>\n",
       "      <td>6</td>\n",
       "      <td>0</td>\n",
       "      <td>1.766442</td>\n",
       "    </tr>\n",
       "    <tr>\n",
       "      <th>2</th>\n",
       "      <td>3.471793</td>\n",
       "      <td>3.985267</td>\n",
       "      <td>68</td>\n",
       "      <td>0.459405</td>\n",
       "      <td>1</td>\n",
       "      <td>2.917531</td>\n",
       "      <td>7</td>\n",
       "      <td>20</td>\n",
       "      <td>5.582932</td>\n",
       "    </tr>\n",
       "    <tr>\n",
       "      <th>3</th>\n",
       "      <td>1.428652</td>\n",
       "      <td>3.678361</td>\n",
       "      <td>68</td>\n",
       "      <td>-1.358086</td>\n",
       "      <td>0</td>\n",
       "      <td>-1.377852</td>\n",
       "      <td>7</td>\n",
       "      <td>10</td>\n",
       "      <td>2.307573</td>\n",
       "    </tr>\n",
       "    <tr>\n",
       "      <th>4</th>\n",
       "      <td>2.140976</td>\n",
       "      <td>4.132227</td>\n",
       "      <td>68</td>\n",
       "      <td>1.758901</td>\n",
       "      <td>0</td>\n",
       "      <td>1.446174</td>\n",
       "      <td>7</td>\n",
       "      <td>40</td>\n",
       "      <td>2.691243</td>\n",
       "    </tr>\n",
       "    <tr>\n",
       "      <th>5</th>\n",
       "      <td>2.083510</td>\n",
       "      <td>3.615401</td>\n",
       "      <td>64</td>\n",
       "      <td>-1.386598</td>\n",
       "      <td>0</td>\n",
       "      <td>-1.378612</td>\n",
       "      <td>6</td>\n",
       "      <td>0</td>\n",
       "      <td>0.000000</td>\n",
       "    </tr>\n",
       "    <tr>\n",
       "      <th>6</th>\n",
       "      <td>0.208232</td>\n",
       "      <td>3.247478</td>\n",
       "      <td>63</td>\n",
       "      <td>-1.388089</td>\n",
       "      <td>0</td>\n",
       "      <td>-1.382082</td>\n",
       "      <td>6</td>\n",
       "      <td>0</td>\n",
       "      <td>0.000000</td>\n",
       "    </tr>\n",
       "    <tr>\n",
       "      <th>7</th>\n",
       "      <td>1.772912</td>\n",
       "      <td>3.877749</td>\n",
       "      <td>61</td>\n",
       "      <td>-1.404772</td>\n",
       "      <td>0</td>\n",
       "      <td>0.797754</td>\n",
       "      <td>7</td>\n",
       "      <td>6</td>\n",
       "      <td>0.000000</td>\n",
       "    </tr>\n",
       "    <tr>\n",
       "      <th>8</th>\n",
       "      <td>0.387934</td>\n",
       "      <td>3.660868</td>\n",
       "      <td>69</td>\n",
       "      <td>1.604431</td>\n",
       "      <td>0</td>\n",
       "      <td>-1.405759</td>\n",
       "      <td>6</td>\n",
       "      <td>0</td>\n",
       "      <td>0.000000</td>\n",
       "    </tr>\n",
       "    <tr>\n",
       "      <th>9</th>\n",
       "      <td>-0.390665</td>\n",
       "      <td>3.863404</td>\n",
       "      <td>67</td>\n",
       "      <td>1.832334</td>\n",
       "      <td>0</td>\n",
       "      <td>-1.375914</td>\n",
       "      <td>7</td>\n",
       "      <td>20</td>\n",
       "      <td>0.000000</td>\n",
       "    </tr>\n",
       "  </tbody>\n",
       "</table>\n",
       "</div>"
      ],
      "text/plain": [
       "          0         1   2         3  4         5  6   7         8\n",
       "0  2.027535  3.928119  66  1.998482  1  2.126745  7  60  2.882004\n",
       "1  1.453784  3.138977  68  0.300940  0 -1.372993  6   0  1.766442\n",
       "2  3.471793  3.985267  68  0.459405  1  2.917531  7  20  5.582932\n",
       "3  1.428652  3.678361  68 -1.358086  0 -1.377852  7  10  2.307573\n",
       "4  2.140976  4.132227  68  1.758901  0  1.446174  7  40  2.691243\n",
       "5  2.083510  3.615401  64 -1.386598  0 -1.378612  6   0  0.000000\n",
       "6  0.208232  3.247478  63 -1.388089  0 -1.382082  6   0  0.000000\n",
       "7  1.772912  3.877749  61 -1.404772  0  0.797754  7   6  0.000000\n",
       "8  0.387934  3.660868  69  1.604431  0 -1.405759  6   0  0.000000\n",
       "9 -0.390665  3.863404  67  1.832334  0 -1.375914  7  20  0.000000"
      ]
     },
     "execution_count": 4,
     "metadata": {},
     "output_type": "execute_result"
    }
   ],
   "source": [
    "test_data = pd.read_csv('./20156599-test.csv', header=None)\n",
    "test_data"
   ]
  },
  {
   "cell_type": "code",
   "execution_count": 5,
   "metadata": {},
   "outputs": [
    {
     "data": {
      "text/html": [
       "<div>\n",
       "<style scoped>\n",
       "    .dataframe tbody tr th:only-of-type {\n",
       "        vertical-align: middle;\n",
       "    }\n",
       "\n",
       "    .dataframe tbody tr th {\n",
       "        vertical-align: top;\n",
       "    }\n",
       "\n",
       "    .dataframe thead th {\n",
       "        text-align: right;\n",
       "    }\n",
       "</style>\n",
       "<table border=\"1\" class=\"dataframe\">\n",
       "  <thead>\n",
       "    <tr style=\"text-align: right;\">\n",
       "      <th></th>\n",
       "      <th>lambda</th>\n",
       "      <th>rss</th>\n",
       "      <th>cost</th>\n",
       "    </tr>\n",
       "  </thead>\n",
       "  <tbody>\n",
       "    <tr>\n",
       "      <th>0</th>\n",
       "      <td>0.1</td>\n",
       "      <td>121.675870</td>\n",
       "      <td>121.893179</td>\n",
       "    </tr>\n",
       "    <tr>\n",
       "      <th>1</th>\n",
       "      <td>0.5</td>\n",
       "      <td>121.779558</td>\n",
       "      <td>122.671021</td>\n",
       "    </tr>\n",
       "    <tr>\n",
       "      <th>2</th>\n",
       "      <td>1.0</td>\n",
       "      <td>121.916428</td>\n",
       "      <td>123.508210</td>\n",
       "    </tr>\n",
       "    <tr>\n",
       "      <th>3</th>\n",
       "      <td>5.0</td>\n",
       "      <td>122.826529</td>\n",
       "      <td>128.950749</td>\n",
       "    </tr>\n",
       "  </tbody>\n",
       "</table>\n",
       "</div>"
      ],
      "text/plain": [
       "   lambda         rss        cost\n",
       "0     0.1  121.675870  121.893179\n",
       "1     0.5  121.779558  122.671021\n",
       "2     1.0  121.916428  123.508210\n",
       "3     5.0  122.826529  128.950749"
      ]
     },
     "execution_count": 5,
     "metadata": {},
     "output_type": "execute_result"
    }
   ],
   "source": [
    "# thử với các lambda khác nhau và tính rss trên tập train\n",
    "lmbdas = [0.1, 0.5, 1, 5]\n",
    "data = pd.DataFrame(columns=['lambda','rss','cost'])\n",
    "for lmbda in lmbdas:\n",
    "    ridreg = RidgeRegression(lmbda)\n",
    "    # tính ma trận w dựa vào x là giá trị 8 cột đầu và y là giá trị cột cuối\n",
    "    x_train = train_data.values[:,:8]\n",
    "    y_train = train_data.values[:,8:9]\n",
    "    ridreg.fit(x_train, y_train)\n",
    "    # rss = tổng (y - f(x))^2\n",
    "    f_x = ridreg.predict(train_data.values[:,:8])\n",
    "    rss = sum((y_train-f_x)**2) \n",
    "    cost = rss + lmbda*sum(ridreg.w**2)\n",
    "    data = data.append({'lambda':lmbda,'rss':rss[0],'cost':cost[0]},ignore_index=True)\n",
    "data"
   ]
  },
  {
   "cell_type": "markdown",
   "metadata": {},
   "source": [
    "Công thức tính rss\n",
    "![rss](https://qph.fs.quoracdn.net/main-qimg-cbaf3d427784b4ee5cb8ff8fa55b6546)"
   ]
  },
  {
   "cell_type": "markdown",
   "metadata": {},
   "source": [
    "Công thức tính cost function:\n",
    "![cost function](data:image/png;base64,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)"
   ]
  },
  {
   "cell_type": "code",
   "execution_count": 6,
   "metadata": {},
   "outputs": [
    {
     "name": "stdout",
     "output_type": "stream",
     "text": [
      "rss: 4.435754\n",
      "cost: 15.301200\n"
     ]
    }
   ],
   "source": [
    "# lấy 5 hàng đầu trong file test làm tập test\n",
    "x_test = test_data.values[0:5,:8]\n",
    "y_test = test_data.values[0:5,8:9]\n",
    "# thử tính rss trên tập test \n",
    "ridreg = RidgeRegression(0.1)\n",
    "ridreg.fit(x_train, y_train)\n",
    "f_x = ridreg.predict(x_test)\n",
    "rss = sum((y_test-f_x)**2)\n",
    "cost = rss + lmbda*sum(ridreg.w**2)\n",
    "print('rss: %f'%rss[0])\n",
    "print('cost: %f'%cost[0])"
   ]
  },
  {
   "cell_type": "code",
   "execution_count": 7,
   "metadata": {},
   "outputs": [],
   "source": [
    "# OUTPUT\n",
    "# predict 5 hàng cuối\n",
    "x = test_data.values[5:10,:8]\n",
    "y = ridreg.predict(x)"
   ]
  },
  {
   "cell_type": "code",
   "execution_count": 8,
   "metadata": {},
   "outputs": [
    {
     "data": {
      "text/plain": [
       "array([[ 0.58573643],\n",
       "       [ 0.51664077],\n",
       "       [-0.01341456],\n",
       "       [ 0.16671418],\n",
       "       [ 0.84627439],\n",
       "       [-0.2345975 ],\n",
       "       [-0.10719971],\n",
       "       [ 0.01114076]])"
      ]
     },
     "execution_count": 8,
     "metadata": {},
     "output_type": "execute_result"
    }
   ],
   "source": [
    "ridreg.coef_()"
   ]
  },
  {
   "cell_type": "code",
   "execution_count": 9,
   "metadata": {},
   "outputs": [
    {
     "data": {
      "text/plain": [
       "array([0.86733995])"
      ]
     },
     "execution_count": 9,
     "metadata": {},
     "output_type": "execute_result"
    }
   ],
   "source": [
    "ridreg.intercept_()"
   ]
  },
  {
   "cell_type": "code",
   "execution_count": 10,
   "metadata": {},
   "outputs": [
    {
     "data": {
      "text/plain": [
       "array([[2.54611471],\n",
       "       [1.27159193],\n",
       "       [1.98601418],\n",
       "       [2.01438683],\n",
       "       [1.83640951]])"
      ]
     },
     "execution_count": 10,
     "metadata": {},
     "output_type": "execute_result"
    }
   ],
   "source": [
    "y"
   ]
  },
  {
   "cell_type": "code",
   "execution_count": 11,
   "metadata": {},
   "outputs": [
    {
     "name": "stderr",
     "output_type": "stream",
     "text": [
      "/home/damminhtien/anaconda3/envs/tf/lib/python3.5/importlib/_bootstrap.py:222: RuntimeWarning: numpy.dtype size changed, may indicate binary incompatibility. Expected 96, got 88\n",
      "  return f(*args, **kwds)\n",
      "/home/damminhtien/anaconda3/envs/tf/lib/python3.5/importlib/_bootstrap.py:222: RuntimeWarning: numpy.dtype size changed, may indicate binary incompatibility. Expected 96, got 88\n",
      "  return f(*args, **kwds)\n",
      "/home/damminhtien/anaconda3/envs/tf/lib/python3.5/importlib/_bootstrap.py:222: RuntimeWarning: numpy.dtype size changed, may indicate binary incompatibility. Expected 96, got 88\n",
      "  return f(*args, **kwds)\n"
     ]
    },
    {
     "data": {
      "text/plain": [
       "array([[2.54681294],\n",
       "       [1.27361452],\n",
       "       [1.97662292],\n",
       "       [2.0175189 ],\n",
       "       [1.83074897]])"
      ]
     },
     "execution_count": 11,
     "metadata": {},
     "output_type": "execute_result"
    }
   ],
   "source": [
    "# tính lại với thư viện scikit-learn\n",
    "from sklearn.linear_model import Ridge\n",
    "ridgereg = Ridge(alpha = 0.1)\n",
    "ridgereg.fit(train_data.values[:,:8], train_data.values[:,8:9])\n",
    "ridgereg.predict(test_data.values[5:10,:8])"
   ]
  },
  {
   "cell_type": "code",
   "execution_count": null,
   "metadata": {},
   "outputs": [],
   "source": []
  }
 ],
 "metadata": {
  "kernelspec": {
   "display_name": "Python 3",
   "language": "python",
   "name": "python3"
  },
  "language_info": {
   "codemirror_mode": {
    "name": "ipython",
    "version": 3
   },
   "file_extension": ".py",
   "mimetype": "text/x-python",
   "name": "python",
   "nbconvert_exporter": "python",
   "pygments_lexer": "ipython3",
   "version": "3.5.5"
  }
 },
 "nbformat": 4,
 "nbformat_minor": 2
}
