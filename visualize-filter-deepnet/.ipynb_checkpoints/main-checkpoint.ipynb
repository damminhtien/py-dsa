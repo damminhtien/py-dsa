{
 "cells": [
  {
   "cell_type": "code",
   "execution_count": 1,
   "metadata": {
    "colab": {
     "base_uri": "https://localhost:8080/",
     "height": 122
    },
    "colab_type": "code",
    "executionInfo": {
     "elapsed": 25772,
     "status": "ok",
     "timestamp": 1547008990899,
     "user": {
      "displayName": "trung nguyen",
      "photoUrl": "",
      "userId": "01817940218672554984"
     },
     "user_tz": -420
    },
    "id": "W3LuwgqB3GW-",
    "outputId": "253e4bf5-317a-47af-bec0-a66aa4095530"
   },
   "outputs": [],
   "source": [
    "# from google.colab import drive\n",
    "# import os\n",
    "# drive.mount('/content/drive')\n",
    "# os.chdir(\"./drive/My Drive/AI_Colab2/VisualAnalysis\")"
   ]
  },
  {
   "cell_type": "code",
   "execution_count": null,
   "metadata": {
    "colab": {
     "base_uri": "https://localhost:8080/",
     "height": 34
    },
    "colab_type": "code",
    "executionInfo": {
     "elapsed": 8256,
     "status": "ok",
     "timestamp": 1547008995616,
     "user": {
      "displayName": "trung nguyen",
      "photoUrl": "",
      "userId": "01817940218672554984"
     },
     "user_tz": -420
    },
    "id": "nWC9Vkel3DVf",
    "outputId": "c9b5b421-62ae-4aab-d71c-c8551cfdaafa"
   },
   "outputs": [],
   "source": [
    "import vgg16\n",
    "import numpy as np\n",
    "import cv2\n",
    "from matplotlib import pyplot as plt\n",
    "import keras\n",
    "import tensorflow as tf"
   ]
  },
  {
   "cell_type": "code",
   "execution_count": null,
   "metadata": {
    "colab": {
     "base_uri": "https://localhost:8080/",
     "height": 88
    },
    "colab_type": "code",
    "executionInfo": {
     "elapsed": 14110,
     "status": "ok",
     "timestamp": 1547009004088,
     "user": {
      "displayName": "trung nguyen",
      "photoUrl": "",
      "userId": "01817940218672554984"
     },
     "user_tz": -420
    },
    "id": "VkpURm-Y3DVm",
    "outputId": "ee3872d4-e1f9-46ab-abef-04e75ea90229"
   },
   "outputs": [],
   "source": [
    "vgg16.maybe_download()\n",
    "vgg = vgg16.VGG16()"
   ]
  },
  {
   "cell_type": "code",
   "execution_count": null,
   "metadata": {
    "colab": {},
    "colab_type": "code",
    "id": "9SmnmmwX3DVq"
   },
   "outputs": [],
   "source": [
    "def normalize_image(x):\n",
    "    x_min = x.min()\n",
    "    x_max = x.max()\n",
    "    x_norm = (x - x_min) / (x_max - x_min)\n",
    "    return x_norm\n",
    "\n",
    "def plot_image(image):\n",
    "    img_norm = normalize_image(image)\n",
    "    plt.figure(figsize=(4,4))\n",
    "    plt.axis('off')\n",
    "    plt.imshow(img_norm, interpolation='nearest')\n",
    "    plt.show()\n",
    "    \n",
    "    \n",
    "def plot_images(images):\n",
    "    (m, n) = (len(images)//3, 3)\n",
    "    fig, axs = plt.subplots(m, n, figsize=(12,8))\n",
    "    for i, img in enumerate(images):\n",
    "        ax = axs[i//3, i% 3]\n",
    "        img = normalize_image(img)\n",
    "        ax.imshow(img, interpolation='nearest')\n",
    "        ax.set_xticks([])\n",
    "        ax.set_yticks([])\n",
    "    plt.show() \n"
   ]
  },
  {
   "cell_type": "code",
   "execution_count": null,
   "metadata": {
    "colab": {
     "base_uri": "https://localhost:8080/",
     "height": 567
    },
    "colab_type": "code",
    "executionInfo": {
     "elapsed": 20235,
     "status": "ok",
     "timestamp": 1547010593999,
     "user": {
      "displayName": "trung nguyen",
      "photoUrl": "",
      "userId": "01817940218672554984"
     },
     "user_tz": -420
    },
    "id": "S9L2Rl0M3DVu",
    "outputId": "3ff6ecf5-f6de-4046-b89d-9da684b31376"
   },
   "outputs": [],
   "source": [
    "def cost(model, layer_id, feature_id):\n",
    "    with model.graph.as_default():\n",
    "        layer = model.get_layer_tensors([layer_id])[0]\n",
    "        feature_map = layer[:,:,:,feature_id]\n",
    "        loss = tf.reduce_mean(feature_map)\n",
    "        return loss\n",
    "\n",
    "def visual(model, layer_id, feature_id, iters,step_size = 0.5):\n",
    "    print(feature_id)\n",
    "    random_image = np.random.uniform(size=(224,224,3)) + 128.0\n",
    "    with model.graph.as_default():\n",
    "        loss = cost(vgg,layer_id,feature_id)\n",
    "        gradient = tf.gradients(loss, model.input)\n",
    "        \n",
    "        feed_dict = vgg.create_feed_dict(image=random_image)\n",
    "\n",
    "        session = tf.Session(graph=vgg.graph)\n",
    "        init = tf.global_variables_initializer()\n",
    "        session.run(init)\n",
    "        run_list = [gradient, loss]\n",
    "        for i in range(iters):\n",
    "            grad_val, loss_val = session.run(run_list, feed_dict=feed_dict)\n",
    "            grad_val = np.array(grad_val).squeeze()\n",
    "            learning_rate = step_size/(grad_val.max() + 1e-8)\n",
    "            random_image += learning_rate * grad_val\n",
    "        return random_image\n",
    " \n",
    "\n",
    "images = []\n",
    "feature_ids = [0,1,2,3,4,5]\n",
    "for f_id in feature_ids:\n",
    "    img = visual(vgg, 5, f_id, 150, 2)\n",
    "    images.append(img)\n",
    "plot_images(images)\n",
    "\n"
   ]
  },
  {
   "cell_type": "code",
   "execution_count": null,
   "metadata": {
    "colab": {
     "base_uri": "https://localhost:8080/",
     "height": 567
    },
    "colab_type": "code",
    "executionInfo": {
     "elapsed": 38857,
     "status": "ok",
     "timestamp": 1547010707941,
     "user": {
      "displayName": "trung nguyen",
      "photoUrl": "",
      "userId": "01817940218672554984"
     },
     "user_tz": -420
    },
    "id": "X_VibCGm3DVx",
    "outputId": "64b87dac-25f6-4b5c-e887-66751c099042"
   },
   "outputs": [],
   "source": [
    "images = []\n",
    "feature_ids = [0,1,2,3,4,5]\n",
    "for f_id in feature_ids:\n",
    "    img = visual(vgg, 5, f_id, 250, 2)\n",
    "    images.append(img)\n",
    "plot_images(images)\n"
   ]
  }
 ],
 "metadata": {
  "accelerator": "GPU",
  "colab": {
   "name": "main.ipynb",
   "provenance": [],
   "version": "0.3.2"
  },
  "kernelspec": {
   "display_name": "Python 2",
   "language": "python",
   "name": "python2"
  },
  "language_info": {
   "codemirror_mode": {
    "name": "ipython",
    "version": 2
   },
   "file_extension": ".py",
   "mimetype": "text/x-python",
   "name": "python",
   "nbconvert_exporter": "python",
   "pygments_lexer": "ipython2",
   "version": "2.7.15"
  }
 },
 "nbformat": 4,
 "nbformat_minor": 1
}
