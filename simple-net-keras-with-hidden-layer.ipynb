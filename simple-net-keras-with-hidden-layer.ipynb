{
 "cells": [
  {
   "cell_type": "code",
   "execution_count": 1,
   "metadata": {},
   "outputs": [
    {
     "name": "stderr",
     "output_type": "stream",
     "text": [
      "Using TensorFlow backend.\n"
     ]
    },
    {
     "name": "stdout",
     "output_type": "stream",
     "text": [
      "60000 train samples\n",
      "10000 test samples\n"
     ]
    }
   ],
   "source": [
    "from __future__ import print_function\n",
    "import numpy as np\n",
    "from keras.datasets import mnist\n",
    "from keras.models import Sequential\n",
    "from keras.layers.core import Dense, Dropout, Activation\n",
    "from keras.optimizers import SGD, Adam\n",
    "from keras.utils import np_utils\n",
    "np.random.seed(1671) # for reproducibility\n",
    "\n",
    "# network and training\n",
    "RESHAPED = 784\n",
    "NB_EPOCH = 20\n",
    "BATCH_SIZE = 128\n",
    "VERBOSE = 1\n",
    "NB_CLASSES = 10 # number of outputs = number of digits\n",
    "OPTIMIZER = Adam() # optimizer, explained later in this chapter\n",
    "N_HIDDEN = 128\n",
    "VALIDATION_SPLIT=0.2 # how much TRAIN is reserved for VALIDATION\n",
    "\n",
    "# data: shuffled and split between train and test sets\n",
    "(X_train, y_train), (X_test, y_test) = mnist.load_data()\n",
    "#X_train is 60000 rows of 28x28 values --> reshaped in 60000 x 784\n",
    "\n",
    "\n",
    "X_train = X_train.reshape(60000, RESHAPED)\n",
    "X_test = X_test.reshape(10000, RESHAPED)\n",
    "X_train = X_train.astype('float32')\n",
    "X_test = X_test.astype('float32')\n",
    "# normalize\n",
    "X_train /= 255\n",
    "X_test /= 255\n",
    "print(X_train.shape[0], 'train samples')\n",
    "print(X_test.shape[0], 'test samples')\n",
    "# convert class vectors to binary class matrices\n",
    "Y_train = np_utils.to_categorical(y_train, NB_CLASSES)\n",
    "Y_test = np_utils.to_categorical(y_test, NB_CLASSES)\n",
    "# M_HIDDEN hidden layers\n",
    "# 10 outputs\n",
    "# final stage is softmax\n",
    "\n"
   ]
  },
  {
   "cell_type": "code",
   "execution_count": 2,
   "metadata": {},
   "outputs": [
    {
     "name": "stdout",
     "output_type": "stream",
     "text": [
      "_________________________________________________________________\n",
      "Layer (type)                 Output Shape              Param #   \n",
      "=================================================================\n",
      "dense_1 (Dense)              (None, 128)               100480    \n",
      "_________________________________________________________________\n",
      "activation_1 (Activation)    (None, 128)               0         \n",
      "_________________________________________________________________\n",
      "dense_2 (Dense)              (None, 128)               16512     \n",
      "_________________________________________________________________\n",
      "activation_2 (Activation)    (None, 128)               0         \n",
      "_________________________________________________________________\n",
      "dense_3 (Dense)              (None, 128)               16512     \n",
      "_________________________________________________________________\n",
      "activation_3 (Activation)    (None, 128)               0         \n",
      "_________________________________________________________________\n",
      "dropout_1 (Dropout)          (None, 128)               0         \n",
      "_________________________________________________________________\n",
      "dense_4 (Dense)              (None, 128)               16512     \n",
      "_________________________________________________________________\n",
      "activation_4 (Activation)    (None, 128)               0         \n",
      "_________________________________________________________________\n",
      "dense_5 (Dense)              (None, 10)                1290      \n",
      "_________________________________________________________________\n",
      "activation_5 (Activation)    (None, 10)                0         \n",
      "=================================================================\n",
      "Total params: 151,306\n",
      "Trainable params: 151,306\n",
      "Non-trainable params: 0\n",
      "_________________________________________________________________\n"
     ]
    }
   ],
   "source": [
    "model = Sequential()\n",
    "model.add(Dense(N_HIDDEN, input_shape=(RESHAPED,)))\n",
    "model.add(Activation('relu'))\n",
    "model.add(Dense(N_HIDDEN))\n",
    "model.add(Activation('relu'))\n",
    "model.add(Dense(N_HIDDEN))\n",
    "model.add(Activation('relu'))\n",
    "model.add(Dropout(0.3))\n",
    "model.add(Dense(N_HIDDEN))\n",
    "model.add(Activation('relu'))\n",
    "model.add(Dense(NB_CLASSES))\n",
    "model.add(Activation('softmax'))\n",
    "model.summary()"
   ]
  },
  {
   "cell_type": "code",
   "execution_count": 3,
   "metadata": {},
   "outputs": [
    {
     "name": "stdout",
     "output_type": "stream",
     "text": [
      "Train on 48000 samples, validate on 12000 samples\n",
      "Epoch 1/20\n",
      "48000/48000 [==============================] - 4s 92us/step - loss: 0.3944 - acc: 0.8813 - val_loss: 0.1504 - val_acc: 0.9542\n",
      "Epoch 2/20\n",
      "48000/48000 [==============================] - 4s 74us/step - loss: 0.1478 - acc: 0.9556 - val_loss: 0.1161 - val_acc: 0.9645\n",
      "Epoch 3/20\n",
      "48000/48000 [==============================] - 4s 89us/step - loss: 0.1025 - acc: 0.9686 - val_loss: 0.1086 - val_acc: 0.9668\n",
      "Epoch 4/20\n",
      "48000/48000 [==============================] - 4s 82us/step - loss: 0.0804 - acc: 0.9761 - val_loss: 0.0980 - val_acc: 0.9694\n",
      "Epoch 5/20\n",
      "48000/48000 [==============================] - 4s 90us/step - loss: 0.0633 - acc: 0.9811 - val_loss: 0.0929 - val_acc: 0.9726\n",
      "Epoch 6/20\n",
      "48000/48000 [==============================] - 4s 80us/step - loss: 0.0528 - acc: 0.9837 - val_loss: 0.1200 - val_acc: 0.9694\n",
      "Epoch 7/20\n",
      "48000/48000 [==============================] - 3s 71us/step - loss: 0.0453 - acc: 0.9853 - val_loss: 0.0967 - val_acc: 0.9732\n",
      "Epoch 8/20\n",
      "48000/48000 [==============================] - 4s 78us/step - loss: 0.0357 - acc: 0.9886 - val_loss: 0.0912 - val_acc: 0.9755\n",
      "Epoch 9/20\n",
      "48000/48000 [==============================] - 4s 88us/step - loss: 0.0349 - acc: 0.9891 - val_loss: 0.1008 - val_acc: 0.9737\n",
      "Epoch 10/20\n",
      "48000/48000 [==============================] - 4s 83us/step - loss: 0.0317 - acc: 0.9897 - val_loss: 0.1042 - val_acc: 0.9733\n",
      "Epoch 11/20\n",
      "48000/48000 [==============================] - 4s 83us/step - loss: 0.0256 - acc: 0.9917 - val_loss: 0.1075 - val_acc: 0.9732\n",
      "Epoch 12/20\n",
      "48000/48000 [==============================] - 4s 81us/step - loss: 0.0239 - acc: 0.9919 - val_loss: 0.1167 - val_acc: 0.9743\n",
      "Epoch 13/20\n",
      "48000/48000 [==============================] - 4s 88us/step - loss: 0.0263 - acc: 0.9915 - val_loss: 0.1078 - val_acc: 0.9752\n",
      "Epoch 14/20\n",
      "48000/48000 [==============================] - 4s 83us/step - loss: 0.0201 - acc: 0.9936 - val_loss: 0.1085 - val_acc: 0.9743\n",
      "Epoch 15/20\n",
      "48000/48000 [==============================] - 4s 88us/step - loss: 0.0207 - acc: 0.9937 - val_loss: 0.1095 - val_acc: 0.9739\n",
      "Epoch 16/20\n",
      "48000/48000 [==============================] - 5s 105us/step - loss: 0.0197 - acc: 0.9936 - val_loss: 0.1115 - val_acc: 0.9741\n",
      "Epoch 17/20\n",
      "48000/48000 [==============================] - 5s 101us/step - loss: 0.0159 - acc: 0.9950 - val_loss: 0.1183 - val_acc: 0.9755\n",
      "Epoch 18/20\n",
      "48000/48000 [==============================] - 5s 101us/step - loss: 0.0170 - acc: 0.9944 - val_loss: 0.1095 - val_acc: 0.9778\n",
      "Epoch 19/20\n",
      "48000/48000 [==============================] - 5s 110us/step - loss: 0.0142 - acc: 0.9956 - val_loss: 0.1167 - val_acc: 0.9788\n",
      "Epoch 20/20\n",
      "48000/48000 [==============================] - 6s 124us/step - loss: 0.0157 - acc: 0.9948 - val_loss: 0.1230 - val_acc: 0.9762\n",
      "10000/10000 [==============================] - 1s 63us/step\n",
      "Test score: 0.12594169787210754\n",
      "Test accuracy: 0.9783\n"
     ]
    }
   ],
   "source": [
    "model.compile(loss='categorical_crossentropy',\n",
    "optimizer=OPTIMIZER,\n",
    "metrics=['accuracy'])\n",
    "history = model.fit(X_train, Y_train,\n",
    "batch_size=BATCH_SIZE, epochs=NB_EPOCH,verbose=VERBOSE, validation_split=VALIDATION_SPLIT)\n",
    "score = model.evaluate(X_test, Y_test, verbose=VERBOSE)\n",
    "print(\"Test score:\", score[0])\n",
    "print('Test accuracy:', score[1])"
   ]
  },
  {
   "cell_type": "code",
   "execution_count": null,
   "metadata": {},
   "outputs": [],
   "source": []
  }
 ],
 "metadata": {
  "kernelspec": {
   "display_name": "Python 3",
   "language": "python",
   "name": "python3"
  },
  "language_info": {
   "codemirror_mode": {
    "name": "ipython",
    "version": 3
   },
   "file_extension": ".py",
   "mimetype": "text/x-python",
   "name": "python",
   "nbconvert_exporter": "python",
   "pygments_lexer": "ipython3",
   "version": "3.6.8"
  }
 },
 "nbformat": 4,
 "nbformat_minor": 2
}
